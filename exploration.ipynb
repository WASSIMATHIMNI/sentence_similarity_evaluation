{
 "cells": [
  {
   "cell_type": "markdown",
   "metadata": {},
   "source": [
    "This is a quick code starter to evaluate sentence similarity"
   ]
  },
  {
   "cell_type": "code",
   "execution_count": null,
   "metadata": {},
   "outputs": [],
   "source": [
    "import pandas as pd\n",
    "import numpy as np\n",
    "from nltk.tokenize.punkt import PunktSentenceTokenizer, PunktTrainer\n",
    "from nltk import sent_tokenize\n",
    "import random"
   ]
  },
  {
   "cell_type": "markdown",
   "metadata": {},
   "source": [
    "# Load the Evaluation Dataset"
   ]
  },
  {
   "cell_type": "code",
   "execution_count": null,
   "metadata": {},
   "outputs": [],
   "source": [
    "df = pd.read_csv(\"data/sts.csv\",delimiter=\"\\t\",error_bad_lines=False)\n",
    "df = df[df.Score > 0];len(df)"
   ]
  },
  {
   "cell_type": "code",
   "execution_count": null,
   "metadata": {},
   "outputs": [],
   "source": [
    "df.head()"
   ]
  },
  {
   "cell_type": "code",
   "execution_count": null,
   "metadata": {},
   "outputs": [],
   "source": [
    "random.choice(df[[\"Sent1\",\"Sent2\",\"Score\"]].values)"
   ]
  },
  {
   "cell_type": "code",
   "execution_count": 27,
   "metadata": {},
   "outputs": [
    {
     "data": {
      "text/plain": [
       "0.3333333333333333"
      ]
     },
     "execution_count": 27,
     "metadata": {},
     "output_type": "execute_result"
    }
   ],
   "source": [
    "mse = ((np.array([1,1,1]) - np.array([1,1,2])) ** 2).mean(axis=None); mse"
   ]
  },
  {
   "cell_type": "code",
   "execution_count": 28,
   "metadata": {},
   "outputs": [],
   "source": [
    "def evaluate(y_pred,y):\n",
    "    return \"Average Loss: {}\".format(((y - y_pred) ** 2).mean(axis=None))"
   ]
  },
  {
   "cell_type": "markdown",
   "metadata": {},
   "source": [
    "# Test 1"
   ]
  },
  {
   "cell_type": "markdown",
   "metadata": {},
   "source": [
    "Our initial benchmark can be assigning 3s to all the pairs of sentence. "
   ]
  },
  {
   "cell_type": "code",
   "execution_count": 29,
   "metadata": {},
   "outputs": [],
   "source": [
    "def similarity1(sent1,sent2):\n",
    "    return 3"
   ]
  },
  {
   "cell_type": "code",
   "execution_count": 30,
   "metadata": {},
   "outputs": [],
   "source": [
    "df[\"pred\"] = df.apply(lambda row: similarity1(row[\"Sent1\"],row[\"Sent2\"]),axis=1)"
   ]
  },
  {
   "cell_type": "code",
   "execution_count": 31,
   "metadata": {},
   "outputs": [
    {
     "data": {
      "text/html": [
       "<div>\n",
       "<style scoped>\n",
       "    .dataframe tbody tr th:only-of-type {\n",
       "        vertical-align: middle;\n",
       "    }\n",
       "\n",
       "    .dataframe tbody tr th {\n",
       "        vertical-align: top;\n",
       "    }\n",
       "\n",
       "    .dataframe thead th {\n",
       "        text-align: right;\n",
       "    }\n",
       "</style>\n",
       "<table border=\"1\" class=\"dataframe\">\n",
       "  <thead>\n",
       "    <tr style=\"text-align: right;\">\n",
       "      <th></th>\n",
       "      <th>Dataset</th>\n",
       "      <th>Domain</th>\n",
       "      <th>Score</th>\n",
       "      <th>Sent1</th>\n",
       "      <th>Sent2</th>\n",
       "      <th>pred</th>\n",
       "    </tr>\n",
       "  </thead>\n",
       "  <tbody>\n",
       "    <tr>\n",
       "      <th>0</th>\n",
       "      <td>STS2012-gold</td>\n",
       "      <td>surprise.OnWN</td>\n",
       "      <td>5.00</td>\n",
       "      <td>render one language in another language</td>\n",
       "      <td>restate (words) from one language into another...</td>\n",
       "      <td>3</td>\n",
       "    </tr>\n",
       "    <tr>\n",
       "      <th>1</th>\n",
       "      <td>STS2012-gold</td>\n",
       "      <td>surprise.OnWN</td>\n",
       "      <td>3.25</td>\n",
       "      <td>nations unified by shared interests, history o...</td>\n",
       "      <td>a group of nations having common interests.</td>\n",
       "      <td>3</td>\n",
       "    </tr>\n",
       "    <tr>\n",
       "      <th>2</th>\n",
       "      <td>STS2012-gold</td>\n",
       "      <td>surprise.OnWN</td>\n",
       "      <td>3.25</td>\n",
       "      <td>convert into absorbable substances, (as if) wi...</td>\n",
       "      <td>soften or disintegrate by means of chemical ac...</td>\n",
       "      <td>3</td>\n",
       "    </tr>\n",
       "    <tr>\n",
       "      <th>3</th>\n",
       "      <td>STS2012-gold</td>\n",
       "      <td>surprise.OnWN</td>\n",
       "      <td>4.00</td>\n",
       "      <td>devote or adapt exclusively to an skill, study...</td>\n",
       "      <td>devote oneself to a special area of work.</td>\n",
       "      <td>3</td>\n",
       "    </tr>\n",
       "    <tr>\n",
       "      <th>4</th>\n",
       "      <td>STS2012-gold</td>\n",
       "      <td>surprise.OnWN</td>\n",
       "      <td>3.25</td>\n",
       "      <td>elevated wooden porch of a house</td>\n",
       "      <td>a porch that resembles the deck on a ship.</td>\n",
       "      <td>3</td>\n",
       "    </tr>\n",
       "  </tbody>\n",
       "</table>\n",
       "</div>"
      ],
      "text/plain": [
       "        Dataset         Domain  Score  \\\n",
       "0  STS2012-gold  surprise.OnWN   5.00   \n",
       "1  STS2012-gold  surprise.OnWN   3.25   \n",
       "2  STS2012-gold  surprise.OnWN   3.25   \n",
       "3  STS2012-gold  surprise.OnWN   4.00   \n",
       "4  STS2012-gold  surprise.OnWN   3.25   \n",
       "\n",
       "                                               Sent1  \\\n",
       "0            render one language in another language   \n",
       "1  nations unified by shared interests, history o...   \n",
       "2  convert into absorbable substances, (as if) wi...   \n",
       "3  devote or adapt exclusively to an skill, study...   \n",
       "4                   elevated wooden porch of a house   \n",
       "\n",
       "                                               Sent2  pred  \n",
       "0  restate (words) from one language into another...     3  \n",
       "1        a group of nations having common interests.     3  \n",
       "2  soften or disintegrate by means of chemical ac...     3  \n",
       "3          devote oneself to a special area of work.     3  \n",
       "4         a porch that resembles the deck on a ship.     3  "
      ]
     },
     "execution_count": 31,
     "metadata": {},
     "output_type": "execute_result"
    }
   ],
   "source": [
    "df.head()"
   ]
  },
  {
   "cell_type": "code",
   "execution_count": 32,
   "metadata": {},
   "outputs": [
    {
     "data": {
      "text/plain": [
       "'Average Loss: 1.9734321848734255'"
      ]
     },
     "execution_count": 32,
     "metadata": {},
     "output_type": "execute_result"
    }
   ],
   "source": [
    "evaluate(df.pred.values,df.Score.values)"
   ]
  },
  {
   "cell_type": "markdown",
   "metadata": {},
   "source": [
    "# Test 2"
   ]
  },
  {
   "cell_type": "markdown",
   "metadata": {},
   "source": [
    "Keep on going with other tests..."
   ]
  },
  {
   "cell_type": "code",
   "execution_count": null,
   "metadata": {},
   "outputs": [],
   "source": []
  }
 ],
 "metadata": {
  "kernelspec": {
   "display_name": "Python 3",
   "language": "python",
   "name": "python3"
  },
  "language_info": {
   "codemirror_mode": {
    "name": "ipython",
    "version": 3
   },
   "file_extension": ".py",
   "mimetype": "text/x-python",
   "name": "python",
   "nbconvert_exporter": "python",
   "pygments_lexer": "ipython3",
   "version": "3.6.4"
  }
 },
 "nbformat": 4,
 "nbformat_minor": 2
}
