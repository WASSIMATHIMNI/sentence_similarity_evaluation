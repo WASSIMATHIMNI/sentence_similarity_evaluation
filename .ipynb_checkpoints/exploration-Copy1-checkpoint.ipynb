{
 "cells": [
  {
   "cell_type": "markdown",
   "metadata": {},
   "source": [
    "This is a quick code starter to evaluate sentence similarity"
   ]
  },
  {
   "cell_type": "code",
   "execution_count": 33,
   "metadata": {},
   "outputs": [],
   "source": [
    "import pandas as pd\n",
    "import numpy as np\n",
    "from nltk.tokenize.punkt import PunktSentenceTokenizer, PunktTrainer\n",
    "from nltk import sent_tokenize\n",
    "import random"
   ]
  },
  {
   "cell_type": "markdown",
   "metadata": {},
   "source": [
    "# Load Data"
   ]
  },
  {
   "cell_type": "code",
   "execution_count": null,
   "metadata": {},
   "outputs": [],
   "source": []
  },
  {
   "cell_type": "markdown",
   "metadata": {},
   "source": [
    "# Load the Evaluation Dataset"
   ]
  },
  {
   "cell_type": "code",
   "execution_count": 11,
   "metadata": {},
   "outputs": [
    {
     "name": "stderr",
     "output_type": "stream",
     "text": [
      "b'Skipping line 855: expected 5 fields, saw 6\\nSkipping line 932: expected 5 fields, saw 6\\nSkipping line 1068: expected 5 fields, saw 6\\nSkipping line 1163: expected 5 fields, saw 7\\nSkipping line 1259: expected 5 fields, saw 6\\nSkipping line 3256: expected 5 fields, saw 6\\nSkipping line 3271: expected 5 fields, saw 6\\nSkipping line 3360: expected 5 fields, saw 6\\nSkipping line 3760: expected 5 fields, saw 6\\nSkipping line 3764: expected 5 fields, saw 6\\nSkipping line 11317: expected 5 fields, saw 6\\nSkipping line 11945: expected 5 fields, saw 6\\nSkipping line 18072: expected 5 fields, saw 6\\nSkipping line 18995: expected 5 fields, saw 7\\nSkipping line 19141: expected 5 fields, saw 6\\nSkipping line 19153: expected 5 fields, saw 6\\nSkipping line 19226: expected 5 fields, saw 6\\nSkipping line 19289: expected 5 fields, saw 6\\nSkipping line 19335: expected 5 fields, saw 6\\nSkipping line 19497: expected 5 fields, saw 6\\nSkipping line 19650: expected 5 fields, saw 7\\nSkipping line 19838: expected 5 fields, saw 6\\nSkipping line 20013: expected 5 fields, saw 6\\nSkipping line 20016: expected 5 fields, saw 6\\nSkipping line 20104: expected 5 fields, saw 6\\nSkipping line 20151: expected 5 fields, saw 6\\nSkipping line 20414: expected 5 fields, saw 6\\nSkipping line 20433: expected 5 fields, saw 7\\nSkipping line 20485: expected 5 fields, saw 6\\nSkipping line 20523: expected 5 fields, saw 6\\nSkipping line 20641: expected 5 fields, saw 6\\nSkipping line 20765: expected 5 fields, saw 6\\nSkipping line 20784: expected 5 fields, saw 6\\nSkipping line 20805: expected 5 fields, saw 6\\nSkipping line 20930: expected 5 fields, saw 6\\nSkipping line 20944: expected 5 fields, saw 6\\nSkipping line 21049: expected 5 fields, saw 7\\nSkipping line 21062: expected 5 fields, saw 6\\nSkipping line 21167: expected 5 fields, saw 6\\nSkipping line 21252: expected 5 fields, saw 7\\nSkipping line 21295: expected 5 fields, saw 6\\nSkipping line 21296: expected 5 fields, saw 6\\nSkipping line 21424: expected 5 fields, saw 6\\nSkipping line 21489: expected 5 fields, saw 6\\nSkipping line 21752: expected 5 fields, saw 6\\nSkipping line 21974: expected 5 fields, saw 6\\nSkipping line 27136: expected 5 fields, saw 6\\n'\n"
     ]
    },
    {
     "data": {
      "text/plain": [
       "13603"
      ]
     },
     "execution_count": 11,
     "metadata": {},
     "output_type": "execute_result"
    }
   ],
   "source": [
    "df = pd.read_csv(\"data/sts.csv\",delimiter=\"\\t\",error_bad_lines=False)\n",
    "df = df[df.Score > 0];len(df)"
   ]
  },
  {
   "cell_type": "code",
   "execution_count": 12,
   "metadata": {},
   "outputs": [
    {
     "data": {
      "text/html": [
       "<div>\n",
       "<style scoped>\n",
       "    .dataframe tbody tr th:only-of-type {\n",
       "        vertical-align: middle;\n",
       "    }\n",
       "\n",
       "    .dataframe tbody tr th {\n",
       "        vertical-align: top;\n",
       "    }\n",
       "\n",
       "    .dataframe thead th {\n",
       "        text-align: right;\n",
       "    }\n",
       "</style>\n",
       "<table border=\"1\" class=\"dataframe\">\n",
       "  <thead>\n",
       "    <tr style=\"text-align: right;\">\n",
       "      <th></th>\n",
       "      <th>Dataset</th>\n",
       "      <th>Domain</th>\n",
       "      <th>Score</th>\n",
       "      <th>Sent1</th>\n",
       "      <th>Sent2</th>\n",
       "    </tr>\n",
       "  </thead>\n",
       "  <tbody>\n",
       "    <tr>\n",
       "      <th>0</th>\n",
       "      <td>STS2012-gold</td>\n",
       "      <td>surprise.OnWN</td>\n",
       "      <td>5.00</td>\n",
       "      <td>render one language in another language</td>\n",
       "      <td>restate (words) from one language into another...</td>\n",
       "    </tr>\n",
       "    <tr>\n",
       "      <th>1</th>\n",
       "      <td>STS2012-gold</td>\n",
       "      <td>surprise.OnWN</td>\n",
       "      <td>3.25</td>\n",
       "      <td>nations unified by shared interests, history o...</td>\n",
       "      <td>a group of nations having common interests.</td>\n",
       "    </tr>\n",
       "    <tr>\n",
       "      <th>2</th>\n",
       "      <td>STS2012-gold</td>\n",
       "      <td>surprise.OnWN</td>\n",
       "      <td>3.25</td>\n",
       "      <td>convert into absorbable substances, (as if) wi...</td>\n",
       "      <td>soften or disintegrate by means of chemical ac...</td>\n",
       "    </tr>\n",
       "    <tr>\n",
       "      <th>3</th>\n",
       "      <td>STS2012-gold</td>\n",
       "      <td>surprise.OnWN</td>\n",
       "      <td>4.00</td>\n",
       "      <td>devote or adapt exclusively to an skill, study...</td>\n",
       "      <td>devote oneself to a special area of work.</td>\n",
       "    </tr>\n",
       "    <tr>\n",
       "      <th>4</th>\n",
       "      <td>STS2012-gold</td>\n",
       "      <td>surprise.OnWN</td>\n",
       "      <td>3.25</td>\n",
       "      <td>elevated wooden porch of a house</td>\n",
       "      <td>a porch that resembles the deck on a ship.</td>\n",
       "    </tr>\n",
       "  </tbody>\n",
       "</table>\n",
       "</div>"
      ],
      "text/plain": [
       "        Dataset         Domain  Score  \\\n",
       "0  STS2012-gold  surprise.OnWN   5.00   \n",
       "1  STS2012-gold  surprise.OnWN   3.25   \n",
       "2  STS2012-gold  surprise.OnWN   3.25   \n",
       "3  STS2012-gold  surprise.OnWN   4.00   \n",
       "4  STS2012-gold  surprise.OnWN   3.25   \n",
       "\n",
       "                                               Sent1  \\\n",
       "0            render one language in another language   \n",
       "1  nations unified by shared interests, history o...   \n",
       "2  convert into absorbable substances, (as if) wi...   \n",
       "3  devote or adapt exclusively to an skill, study...   \n",
       "4                   elevated wooden porch of a house   \n",
       "\n",
       "                                               Sent2  \n",
       "0  restate (words) from one language into another...  \n",
       "1        a group of nations having common interests.  \n",
       "2  soften or disintegrate by means of chemical ac...  \n",
       "3          devote oneself to a special area of work.  \n",
       "4         a porch that resembles the deck on a ship.  "
      ]
     },
     "execution_count": 12,
     "metadata": {},
     "output_type": "execute_result"
    }
   ],
   "source": [
    "df.head()"
   ]
  },
  {
   "cell_type": "code",
   "execution_count": 26,
   "metadata": {},
   "outputs": [
    {
     "data": {
      "text/plain": [
       "array(['the act of physically affixing or connecting things',\n",
       "       'the act of fastening things together.', 4.0], dtype=object)"
      ]
     },
     "execution_count": 26,
     "metadata": {},
     "output_type": "execute_result"
    }
   ],
   "source": [
    "random.choice(df[[\"Sent1\",\"Sent2\",\"Score\"]].values)"
   ]
  },
  {
   "cell_type": "code",
   "execution_count": 27,
   "metadata": {},
   "outputs": [
    {
     "data": {
      "text/plain": [
       "0.3333333333333333"
      ]
     },
     "execution_count": 27,
     "metadata": {},
     "output_type": "execute_result"
    }
   ],
   "source": [
    "mse = ((np.array([1,1,1]) - np.array([1,1,2])) ** 2).mean(axis=None); mse"
   ]
  },
  {
   "cell_type": "code",
   "execution_count": 28,
   "metadata": {},
   "outputs": [],
   "source": [
    "def evaluate(y_pred,y):\n",
    "    return \"Average Loss: {}\".format(((y - y_pred) ** 2).mean(axis=None))"
   ]
  },
  {
   "cell_type": "markdown",
   "metadata": {},
   "source": [
    "# Test 1"
   ]
  },
  {
   "cell_type": "markdown",
   "metadata": {},
   "source": [
    "Our initial benchmark can be assigning 3s to all the pairs of sentence. "
   ]
  },
  {
   "cell_type": "code",
   "execution_count": 29,
   "metadata": {},
   "outputs": [],
   "source": [
    "def similarity1(sent1,sent2):\n",
    "    return 3"
   ]
  },
  {
   "cell_type": "code",
   "execution_count": 30,
   "metadata": {},
   "outputs": [],
   "source": [
    "df[\"pred\"] = df.apply(lambda row: similarity1(row[\"Sent1\"],row[\"Sent2\"]),axis=1)"
   ]
  },
  {
   "cell_type": "code",
   "execution_count": 31,
   "metadata": {},
   "outputs": [
    {
     "data": {
      "text/html": [
       "<div>\n",
       "<style scoped>\n",
       "    .dataframe tbody tr th:only-of-type {\n",
       "        vertical-align: middle;\n",
       "    }\n",
       "\n",
       "    .dataframe tbody tr th {\n",
       "        vertical-align: top;\n",
       "    }\n",
       "\n",
       "    .dataframe thead th {\n",
       "        text-align: right;\n",
       "    }\n",
       "</style>\n",
       "<table border=\"1\" class=\"dataframe\">\n",
       "  <thead>\n",
       "    <tr style=\"text-align: right;\">\n",
       "      <th></th>\n",
       "      <th>Dataset</th>\n",
       "      <th>Domain</th>\n",
       "      <th>Score</th>\n",
       "      <th>Sent1</th>\n",
       "      <th>Sent2</th>\n",
       "      <th>pred</th>\n",
       "    </tr>\n",
       "  </thead>\n",
       "  <tbody>\n",
       "    <tr>\n",
       "      <th>0</th>\n",
       "      <td>STS2012-gold</td>\n",
       "      <td>surprise.OnWN</td>\n",
       "      <td>5.00</td>\n",
       "      <td>render one language in another language</td>\n",
       "      <td>restate (words) from one language into another...</td>\n",
       "      <td>3</td>\n",
       "    </tr>\n",
       "    <tr>\n",
       "      <th>1</th>\n",
       "      <td>STS2012-gold</td>\n",
       "      <td>surprise.OnWN</td>\n",
       "      <td>3.25</td>\n",
       "      <td>nations unified by shared interests, history o...</td>\n",
       "      <td>a group of nations having common interests.</td>\n",
       "      <td>3</td>\n",
       "    </tr>\n",
       "    <tr>\n",
       "      <th>2</th>\n",
       "      <td>STS2012-gold</td>\n",
       "      <td>surprise.OnWN</td>\n",
       "      <td>3.25</td>\n",
       "      <td>convert into absorbable substances, (as if) wi...</td>\n",
       "      <td>soften or disintegrate by means of chemical ac...</td>\n",
       "      <td>3</td>\n",
       "    </tr>\n",
       "    <tr>\n",
       "      <th>3</th>\n",
       "      <td>STS2012-gold</td>\n",
       "      <td>surprise.OnWN</td>\n",
       "      <td>4.00</td>\n",
       "      <td>devote or adapt exclusively to an skill, study...</td>\n",
       "      <td>devote oneself to a special area of work.</td>\n",
       "      <td>3</td>\n",
       "    </tr>\n",
       "    <tr>\n",
       "      <th>4</th>\n",
       "      <td>STS2012-gold</td>\n",
       "      <td>surprise.OnWN</td>\n",
       "      <td>3.25</td>\n",
       "      <td>elevated wooden porch of a house</td>\n",
       "      <td>a porch that resembles the deck on a ship.</td>\n",
       "      <td>3</td>\n",
       "    </tr>\n",
       "  </tbody>\n",
       "</table>\n",
       "</div>"
      ],
      "text/plain": [
       "        Dataset         Domain  Score  \\\n",
       "0  STS2012-gold  surprise.OnWN   5.00   \n",
       "1  STS2012-gold  surprise.OnWN   3.25   \n",
       "2  STS2012-gold  surprise.OnWN   3.25   \n",
       "3  STS2012-gold  surprise.OnWN   4.00   \n",
       "4  STS2012-gold  surprise.OnWN   3.25   \n",
       "\n",
       "                                               Sent1  \\\n",
       "0            render one language in another language   \n",
       "1  nations unified by shared interests, history o...   \n",
       "2  convert into absorbable substances, (as if) wi...   \n",
       "3  devote or adapt exclusively to an skill, study...   \n",
       "4                   elevated wooden porch of a house   \n",
       "\n",
       "                                               Sent2  pred  \n",
       "0  restate (words) from one language into another...     3  \n",
       "1        a group of nations having common interests.     3  \n",
       "2  soften or disintegrate by means of chemical ac...     3  \n",
       "3          devote oneself to a special area of work.     3  \n",
       "4         a porch that resembles the deck on a ship.     3  "
      ]
     },
     "execution_count": 31,
     "metadata": {},
     "output_type": "execute_result"
    }
   ],
   "source": [
    "df.head()"
   ]
  },
  {
   "cell_type": "code",
   "execution_count": 32,
   "metadata": {},
   "outputs": [
    {
     "data": {
      "text/plain": [
       "'Average Loss: 1.9734321848734255'"
      ]
     },
     "execution_count": 32,
     "metadata": {},
     "output_type": "execute_result"
    }
   ],
   "source": [
    "evaluate(df.pred.values,df.Score.values)"
   ]
  },
  {
   "cell_type": "markdown",
   "metadata": {},
   "source": [
    "# Test 2"
   ]
  },
  {
   "cell_type": "markdown",
   "metadata": {},
   "source": [
    "Keep on going with other tests..."
   ]
  },
  {
   "cell_type": "code",
   "execution_count": null,
   "metadata": {},
   "outputs": [],
   "source": []
  },
  {
   "cell_type": "code",
   "execution_count": null,
   "metadata": {},
   "outputs": [],
   "source": []
  },
  {
   "cell_type": "markdown",
   "metadata": {},
   "source": [
    "## Set Up Sentence Tokenizer (Sample Code)"
   ]
  },
  {
   "cell_type": "markdown",
   "metadata": {},
   "source": [
    "Using sent_tokenize pretrained model"
   ]
  },
  {
   "cell_type": "code",
   "execution_count": 34,
   "metadata": {},
   "outputs": [
    {
     "data": {
      "text/plain": [
       "['My friend holds a Msc.',\n",
       " 'in Computer Science.',\n",
       " 'Mr. James told me Dr. Brown is not available today.',\n",
       " 'I will try tomorrow.',\n",
       " 'A man (e.g.',\n",
       " 'a worker) is a good candidate.']"
      ]
     },
     "execution_count": 34,
     "metadata": {},
     "output_type": "execute_result"
    }
   ],
   "source": [
    "sentence = \"My friend holds a Msc. in Computer Science. Mr. James told me Dr. Brown is not available today. I will try tomorrow. A man (e.g. a worker) is a good candidate.\"\n",
    "sent_tokenize(sentence)"
   ]
  },
  {
   "cell_type": "code",
   "execution_count": 35,
   "metadata": {},
   "outputs": [],
   "source": [
    "from nltk.corpus import gutenberg\n",
    "\n",
    "text = \"\"\n",
    "for file_id in gutenberg.fileids():\n",
    "    text += gutenberg.raw(file_id)\n",
    "\n",
    "trainer = PunktTrainer()\n",
    "trainer.INCLUDE_ALL_COLLOCS = True\n",
    "trainer.train(text)"
   ]
  },
  {
   "cell_type": "code",
   "execution_count": 36,
   "metadata": {},
   "outputs": [],
   "source": [
    "tokenizer = PunktSentenceTokenizer(trainer.get_params())"
   ]
  },
  {
   "cell_type": "code",
   "execution_count": 37,
   "metadata": {},
   "outputs": [
    {
     "data": {
      "text/plain": [
       "['My friend holds a Msc.',\n",
       " 'in Computer Science.',\n",
       " 'Mr. James told me Dr.',\n",
       " 'Brown is not available today.',\n",
       " 'I will try tomorrow.',\n",
       " 'A man (e.g.',\n",
       " 'a worker) is a good candidate.']"
      ]
     },
     "execution_count": 37,
     "metadata": {},
     "output_type": "execute_result"
    }
   ],
   "source": [
    "tokenizer.tokenize(sentence)"
   ]
  },
  {
   "cell_type": "code",
   "execution_count": 38,
   "metadata": {},
   "outputs": [],
   "source": [
    "tokenizer._params.abbrev_types.add('dr')\n",
    "tokenizer._params.abbrev_types.add('e.g')\n",
    "tokenizer._params.abbrev_types.add('msc')"
   ]
  },
  {
   "cell_type": "code",
   "execution_count": 39,
   "metadata": {},
   "outputs": [
    {
     "data": {
      "text/plain": [
       "['My friend holds a Msc. in Computer Science.',\n",
       " 'Mr. James told me Dr. Brown is not available today.',\n",
       " 'I will try tomorrow.',\n",
       " 'A man (e.g. a worker) is a good candidate.']"
      ]
     },
     "execution_count": 39,
     "metadata": {},
     "output_type": "execute_result"
    }
   ],
   "source": [
    "tokenizer.tokenize(sentence)"
   ]
  },
  {
   "cell_type": "code",
   "execution_count": null,
   "metadata": {},
   "outputs": [],
   "source": []
  }
 ],
 "metadata": {
  "kernelspec": {
   "display_name": "Python 3",
   "language": "python",
   "name": "python3"
  },
  "language_info": {
   "codemirror_mode": {
    "name": "ipython",
    "version": 3
   },
   "file_extension": ".py",
   "mimetype": "text/x-python",
   "name": "python",
   "nbconvert_exporter": "python",
   "pygments_lexer": "ipython3",
   "version": "3.6.4"
  }
 },
 "nbformat": 4,
 "nbformat_minor": 2
}
